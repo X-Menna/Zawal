{
 "cells": [
  {
   "cell_type": "code",
   "execution_count": 25,
   "id": "4e75f010-d51b-4946-b0eb-63ccc04d3025",
   "metadata": {},
   "outputs": [],
   "source": [
    "\n",
    "import requests # -> used for getting the data from  API\n",
    "from typing import Tuple, Dict, List \n",
    "#  Tuple: an immutable, ordered collection of elements. Once created, its contents cannot be changed\n",
    "import json  # JSON (JavaScript Object Notation) - Data Representation Format - Commonly Used For APIs and Easy to Read/ Write \n",
    "from IPython.display import display, JSON # only for jupyter and displaying data \n",
    "import os      # -> for Operating system (that will have .env file that stores API keys for authentication)\n",
    "from dotenv import load_dotenv   # -> loads variables from .env file \n"
   ]
  },
  {
   "cell_type": "code",
   "execution_count": 26,
   "id": "b08aa350-6e4e-4a5e-895d-688a34e783b3",
   "metadata": {},
   "outputs": [
    {
     "name": "stderr",
     "output_type": "stream",
     "text": [
      "UsageError: Line magic function `%%writefile` not found.\n"
     ]
    }
   ],
   "source": [
    "# this part is for jupyter to create .env file you can ignore it and create a normal file if u are using VS with extension .env\n",
    "%%writefile .env\n",
    "OPENAI_API_KEY= \"add any key  here \"\n",
    "OPENWEATHER_API_KEY= \"add any key here (don't use the same key twice)\""
   ]
  },
  {
   "cell_type": "code",
   "execution_count": 27,
   "id": "c60bec34-f8e8-494d-a624-63984ebab0c1",
   "metadata": {},
   "outputs": [],
   "source": [
    "class Safety:\n",
    "    def __init__(self):\n",
    "        self.weather_api_key = OPENWEATHER_API_KEY # -> Key for Weather API \n",
    "        self.travel_api = \"https://www.travel-advisory.info/api\" \n",
    "\n",
    "    def check_country(self, country: str) -> Tuple[bool , dict]: # -> tuple to store if the country is safe or not and the other details  \n",
    "        \n",
    "        try:\n",
    "            # -> Getting safety information and storing it to help me with  safety score\n",
    "            advisory_response = request.get(f\"{self.travel_api}?country={country}\")\n",
    "            advisory_data = advisory_response.json()  -> Getting the data from API and returning it in json format (as Dictionary) \n",
    "            advisory_scroe = advisory_data['data'][country]['advisory']['score']\n",
    "\n",
    "            # -> Getting the Capital of the country and checking if it is safe or not \n",
    "            capital = self._get_capital(country) # the function that gets the Capital of the country will be down below\n",
    "            weather_url = f\"https://api.openweathermap.org/data/2.5/weather?q={capital}&appid={self.OPENWEATHER_API_KEY}\" # getting the URL\n",
    "            weather_response = requests.get(weather_url)\n",
    "            weather_data = weather_response.json() # -> Getting the data from API and returning it in json format (as Dictionary) \n",
    "\n",
    "            weather_alerts = weather_data.get('alerts' , []) # -> weather alert for the capital\n",
    "\n",
    "            is_safe = (advisory_scroe <= 2.5 ) and (not weather_alerts) # advisory_scroe will be from 5\n",
    "\n",
    "            return is_safe, {\n",
    "                \"advisory_score\": advisory_scroe,\n",
    "                \"weather_alerts\": weather_alerts,\n",
    "                \"capital_checked\": capital\n",
    "            }\n",
    "        except Exception as e :\n",
    "            print(f\"API Error : {str(e)}\")\n",
    "            return True ,{\"error\" : str(e)}\n",
    "\n",
    "    def _get_capital(self , country: str) -> str :\n",
    "            # -> we don't have the capitals of countries in the data so i added them here\n",
    "        capitals = {\n",
    "            \"South Korea\": \"Seoul\",\n",
    "            \"Japan\": \"Tokyo\",\n",
    "            \"Indonesia\": \"Jakarta\",\n",
    "            \"Morocco\": \"Rabat\",\n",
    "            \"Egypt\": \"Cairo\",\n",
    "            \"South Africa\": \"Pretoria\",\n",
    "            \"Turkey\": \"Ankara\",\n",
    "            \"Greece\": \"Athens\",\n",
    "            \"France\": \"Paris\",\n",
    "            \"Spain\": \"Madrid\",\n",
    "            \"Germany\": \"Berlin\",\n",
    "            \"United States\": \"Washington\",\n",
    "            \"Brazil\": \"Brasília\",\n",
    "            \"Mexico\": \"Mexico City\"\n",
    "        }\n",
    "        return capitals.get(country, country.split()[0]) # -> returning the capital name and if it does not exist will return the country name only\n",
    "            "
   ]
  },
  {
   "cell_type": "code",
   "execution_count": 20,
   "id": "cfb4cf10-d13a-4f7f-b744-68c4f857b0fd",
   "metadata": {},
   "outputs": [],
   "source": [
    "class Zawal :\n",
    "    def __init__(self):\n",
    "        self.SafteyChecker = Safety() \n",
    "        openai.api_key = OPENAI_API_KEY \n",
    "\n",
    "    def GetSuggestions(self , UserInput: Dict ) -> Dict:\n",
    "        is_safe , saftey_report = self.SafteyChecker.check_country(UserInput['Country'])\n",
    "\n",
    "        if is_safe :\n",
    "            return {\n",
    "                # -> what will be returned from Recommender System\n",
    "            }\n",
    "        else :\n",
    "            return{\n",
    "               # -> what will be returned from the suggestion  System \n",
    "            }\n",
    "\n",
    "\n",
    "        # -> Please add your recommendation system (as a class) here \n",
    "\n",
    "\n",
    "\n",
    "\n",
    "\n",
    "\n",
    "     # -> I will add my suggestion system (as a class) here (isa)\n",
    "        "
   ]
  },
  {
   "cell_type": "code",
   "execution_count": null,
   "id": "b242018d-1c00-46c9-8d44-437c9b52b1b3",
   "metadata": {},
   "outputs": [],
   "source": []
  }
 ],
 "metadata": {
  "kernelspec": {
   "display_name": "Python 3 (ipykernel)",
   "language": "python",
   "name": "python3"
  },
  "language_info": {
   "codemirror_mode": {
    "name": "ipython",
    "version": 3
   },
   "file_extension": ".py",
   "mimetype": "text/x-python",
   "name": "python",
   "nbconvert_exporter": "python",
   "pygments_lexer": "ipython3",
   "version": "3.12.6"
  }
 },
 "nbformat": 4,
 "nbformat_minor": 5
}
